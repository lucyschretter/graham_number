{
 "cells": [
  {
   "cell_type": "code",
   "execution_count": null,
   "outputs": [],
   "source": [
    "'''from get_s_and_p_list import get_ticker_list_for_target_date\n",
    "\n",
    "# define target_date\n",
    "first_quarter = quarters[0]\n",
    "target_date = first_quarter.strftime(\"%Y-%m-%d\")\n",
    "\n",
    "data_dict = {ticker: {} for ticker in tickers}\n",
    "\n",
    "ticker_list = get_ticker_list_for_target_date(target_date)\n",
    "\n",
    "for ticker in ticker_list:\n",
    "    try:\n",
    "        price = get_closing_price_on_target_date(ticker, target_date)\n",
    "        intrinsic_value = calculate_graham_number(ticker, target_date)\n",
    "        data_dict[ticker][target_date] = {'Closing Price': price, 'Graham Number': intrinsic_value}\n",
    "    except Exception as e:\n",
    "        print(f'Something went wrong for {ticker} in {target_date}: {e}')\n",
    "\n",
    "for key, value in data_dict.items():\n",
    "    print(key)\n",
    "    print(value)'''"
   ],
   "metadata": {
    "collapsed": false,
    "pycharm": {
     "name": "#%%\n"
    }
   }
  },
  {
   "cell_type": "code",
   "execution_count": 1,
   "outputs": [
    {
     "name": "stdout",
     "output_type": "stream",
     "text": [
      "         date quarter  year\n",
      "0  1999-12-31      Q4  1999\n",
      "1  2000-03-31      Q1  2000\n",
      "2  2000-06-30      Q2  2000\n",
      "3  2000-09-30      Q3  2000\n",
      "4  2000-12-31      Q4  2000\n",
      "..        ...     ...   ...\n",
      "88 2021-12-31      Q4  2021\n",
      "89 2022-03-31      Q1  2022\n",
      "90 2022-06-30      Q2  2022\n",
      "91 2022-09-30      Q3  2022\n",
      "92 2022-12-31      Q4  2022\n",
      "\n",
      "[93 rows x 3 columns]\n",
      "<class 'pandas._libs.tslibs.timestamps.Timestamp'>\n",
      "<class 'pandas._libs.tslibs.timestamps.Timestamp'>\n",
      "<class 'pandas._libs.tslibs.timestamps.Timestamp'>\n",
      "<class 'pandas._libs.tslibs.timestamps.Timestamp'>\n",
      "<class 'pandas._libs.tslibs.timestamps.Timestamp'>\n",
      "<class 'pandas._libs.tslibs.timestamps.Timestamp'>\n",
      "<class 'pandas._libs.tslibs.timestamps.Timestamp'>\n",
      "<class 'pandas._libs.tslibs.timestamps.Timestamp'>\n",
      "<class 'pandas._libs.tslibs.timestamps.Timestamp'>\n",
      "<class 'pandas._libs.tslibs.timestamps.Timestamp'>\n",
      "<class 'pandas._libs.tslibs.timestamps.Timestamp'>\n",
      "<class 'pandas._libs.tslibs.timestamps.Timestamp'>\n",
      "<class 'pandas._libs.tslibs.timestamps.Timestamp'>\n",
      "<class 'pandas._libs.tslibs.timestamps.Timestamp'>\n",
      "<class 'pandas._libs.tslibs.timestamps.Timestamp'>\n",
      "<class 'pandas._libs.tslibs.timestamps.Timestamp'>\n",
      "<class 'pandas._libs.tslibs.timestamps.Timestamp'>\n",
      "<class 'pandas._libs.tslibs.timestamps.Timestamp'>\n",
      "<class 'pandas._libs.tslibs.timestamps.Timestamp'>\n",
      "<class 'pandas._libs.tslibs.timestamps.Timestamp'>\n",
      "<class 'pandas._libs.tslibs.timestamps.Timestamp'>\n",
      "<class 'pandas._libs.tslibs.timestamps.Timestamp'>\n",
      "<class 'pandas._libs.tslibs.timestamps.Timestamp'>\n",
      "<class 'pandas._libs.tslibs.timestamps.Timestamp'>\n",
      "<class 'pandas._libs.tslibs.timestamps.Timestamp'>\n",
      "<class 'pandas._libs.tslibs.timestamps.Timestamp'>\n",
      "<class 'pandas._libs.tslibs.timestamps.Timestamp'>\n",
      "<class 'pandas._libs.tslibs.timestamps.Timestamp'>\n",
      "<class 'pandas._libs.tslibs.timestamps.Timestamp'>\n",
      "<class 'pandas._libs.tslibs.timestamps.Timestamp'>\n",
      "<class 'pandas._libs.tslibs.timestamps.Timestamp'>\n",
      "<class 'pandas._libs.tslibs.timestamps.Timestamp'>\n",
      "<class 'pandas._libs.tslibs.timestamps.Timestamp'>\n",
      "<class 'pandas._libs.tslibs.timestamps.Timestamp'>\n",
      "<class 'pandas._libs.tslibs.timestamps.Timestamp'>\n",
      "<class 'pandas._libs.tslibs.timestamps.Timestamp'>\n",
      "<class 'pandas._libs.tslibs.timestamps.Timestamp'>\n",
      "<class 'pandas._libs.tslibs.timestamps.Timestamp'>\n",
      "<class 'pandas._libs.tslibs.timestamps.Timestamp'>\n",
      "<class 'pandas._libs.tslibs.timestamps.Timestamp'>\n",
      "<class 'pandas._libs.tslibs.timestamps.Timestamp'>\n",
      "<class 'pandas._libs.tslibs.timestamps.Timestamp'>\n",
      "<class 'pandas._libs.tslibs.timestamps.Timestamp'>\n",
      "<class 'pandas._libs.tslibs.timestamps.Timestamp'>\n",
      "<class 'pandas._libs.tslibs.timestamps.Timestamp'>\n",
      "<class 'pandas._libs.tslibs.timestamps.Timestamp'>\n",
      "<class 'pandas._libs.tslibs.timestamps.Timestamp'>\n",
      "<class 'pandas._libs.tslibs.timestamps.Timestamp'>\n",
      "<class 'pandas._libs.tslibs.timestamps.Timestamp'>\n",
      "<class 'pandas._libs.tslibs.timestamps.Timestamp'>\n",
      "<class 'pandas._libs.tslibs.timestamps.Timestamp'>\n",
      "<class 'pandas._libs.tslibs.timestamps.Timestamp'>\n",
      "<class 'pandas._libs.tslibs.timestamps.Timestamp'>\n",
      "<class 'pandas._libs.tslibs.timestamps.Timestamp'>\n",
      "<class 'pandas._libs.tslibs.timestamps.Timestamp'>\n",
      "<class 'pandas._libs.tslibs.timestamps.Timestamp'>\n",
      "<class 'pandas._libs.tslibs.timestamps.Timestamp'>\n",
      "<class 'pandas._libs.tslibs.timestamps.Timestamp'>\n",
      "<class 'pandas._libs.tslibs.timestamps.Timestamp'>\n",
      "<class 'pandas._libs.tslibs.timestamps.Timestamp'>\n",
      "<class 'pandas._libs.tslibs.timestamps.Timestamp'>\n",
      "<class 'pandas._libs.tslibs.timestamps.Timestamp'>\n",
      "<class 'pandas._libs.tslibs.timestamps.Timestamp'>\n",
      "<class 'pandas._libs.tslibs.timestamps.Timestamp'>\n",
      "<class 'pandas._libs.tslibs.timestamps.Timestamp'>\n",
      "<class 'pandas._libs.tslibs.timestamps.Timestamp'>\n",
      "<class 'pandas._libs.tslibs.timestamps.Timestamp'>\n",
      "<class 'pandas._libs.tslibs.timestamps.Timestamp'>\n",
      "<class 'pandas._libs.tslibs.timestamps.Timestamp'>\n",
      "<class 'pandas._libs.tslibs.timestamps.Timestamp'>\n",
      "<class 'pandas._libs.tslibs.timestamps.Timestamp'>\n",
      "<class 'pandas._libs.tslibs.timestamps.Timestamp'>\n",
      "<class 'pandas._libs.tslibs.timestamps.Timestamp'>\n",
      "<class 'pandas._libs.tslibs.timestamps.Timestamp'>\n",
      "<class 'pandas._libs.tslibs.timestamps.Timestamp'>\n",
      "<class 'pandas._libs.tslibs.timestamps.Timestamp'>\n",
      "<class 'pandas._libs.tslibs.timestamps.Timestamp'>\n",
      "<class 'pandas._libs.tslibs.timestamps.Timestamp'>\n",
      "<class 'pandas._libs.tslibs.timestamps.Timestamp'>\n",
      "<class 'pandas._libs.tslibs.timestamps.Timestamp'>\n",
      "<class 'pandas._libs.tslibs.timestamps.Timestamp'>\n",
      "<class 'pandas._libs.tslibs.timestamps.Timestamp'>\n",
      "<class 'pandas._libs.tslibs.timestamps.Timestamp'>\n",
      "<class 'pandas._libs.tslibs.timestamps.Timestamp'>\n",
      "<class 'pandas._libs.tslibs.timestamps.Timestamp'>\n",
      "<class 'pandas._libs.tslibs.timestamps.Timestamp'>\n",
      "<class 'pandas._libs.tslibs.timestamps.Timestamp'>\n",
      "<class 'pandas._libs.tslibs.timestamps.Timestamp'>\n",
      "<class 'pandas._libs.tslibs.timestamps.Timestamp'>\n",
      "<class 'pandas._libs.tslibs.timestamps.Timestamp'>\n",
      "<class 'pandas._libs.tslibs.timestamps.Timestamp'>\n",
      "<class 'pandas._libs.tslibs.timestamps.Timestamp'>\n",
      "<class 'pandas._libs.tslibs.timestamps.Timestamp'>\n",
      "['A', 'AABA', 'AAL', 'AAMRQ', 'AAP', 'AAPL', 'ABBV', 'ABC', 'ABI', 'ABKFQ', 'ABMD', 'ABS', 'ABT', 'ABX', 'ACAS', 'ACGL', 'ACKH', 'ACN', 'ACS', 'ACV', 'ADBE', 'ADCT', 'ADI', 'ADM', 'ADP', 'ADS', 'ADSK', 'ADT', 'AEE', 'AEP', 'AES', 'AET', 'AFL', 'AFS.A', 'AGC', 'AGN', 'AHM', 'AIG', 'AIT', 'AIV', 'AIZ', 'AJG', 'AKAM', 'AKS', 'AL', 'ALB', 'ALGN', 'ALK', 'ALL', 'ALLE', 'ALTR', 'ALXN', 'AM', 'AMAT', 'AMCC', 'AMCR', 'AMD', 'AME', 'AMG', 'AMGN', 'AMH', 'AMP', 'AMT', 'AMZN', 'AN', 'ANDV', 'ANDW', 'ANET', 'ANF', 'ANRZQ', 'ANSS', 'ANTM', 'ANV', 'AON', 'AOS', 'APA', 'APC', 'APCC', 'APD', 'APH', 'APOL', 'APTV', 'AR', 'ARC', 'ARE', 'ARG', 'ARNC', 'AS', 'ASC', 'ASH', 'ASN', 'ASND', 'ASO', 'AT', 'ATGE', 'ATI', 'ATO', 'ATVI', 'AV', 'AVB', 'AVGO', 'AVP', 'AVY', 'AW', 'AWE', 'AWK', 'AXON', 'AXP', 'AYE', 'AYI', 'AZA.A', 'AZO', 'BA', 'BAC', 'BALL', 'BAX', 'BAY', 'BBBY', 'BBI', 'BBT', 'BBWI', 'BBY', 'BC', 'BCO', 'BCR', 'BDK', 'BDX', 'BEAM', 'BEN', 'BEV', 'BF.B', 'BFI', 'BFO', 'BG', 'BGEN', 'BGG', 'BHF', 'BHGE', 'BHMSQ', 'BIG', 'BIIB', 'BIO', 'BJS', 'BK', 'BKB', 'BKNG', 'BKR', 'BLK', 'BLL', 'BLS', 'BLY', 'BMC', 'BMET', 'BMGCA', 'BMS', 'BMY', 'BNI', 'BNL', 'BOAT', 'BOL', 'BR', 'BRCM', 'BRK.B', 'BRL', 'BRO', 'BSC', 'BSX', 'BT', 'BTUUQ', 'BUD', 'BVSN', 'BWA', 'BXLT', 'BXP', 'C', 'CA', 'CAG', 'CAH', 'CAL', 'CAM', 'CAR', 'CARR', 'CAT', 'CB', 'CBB', 'CBE', 'CBH', 'CBOE', 'CBRE', 'CBS', 'CBSS', 'CCB', 'CCE', 'CCEP', 'CCI', 'CCK', 'CCL', 'CCTYQ', 'CCU', 'CDAY', 'CDNS', 'CDW', 'CE', 'CEG', 'CELG', 'CEN', 'CEPH', 'CERN', 'CF', 'CFC', 'CFG', 'CFL', 'CFN', 'CG', 'CGP', 'CHA', 'CHD', 'CHIR', 'CHK', 'CHRS', 'CHRW', 'CHTR', 'CI', 'CIEN', 'CIN', 'CINF', 'CIT.A', 'CITGQ', 'CL', 'CLF', 'CLX', 'CMA', 'CMB', 'CMCSA', 'CMCSK', 'CME', 'CMG', 'CMI', 'CMS', 'CMVT', 'CMX', 'CNC', 'CNG', 'CNP', 'CNW', 'CNX', 'CNXT', 'COC.B', 'COF', 'COG', 'COL', 'COMS', 'COO', 'COP', 'COST', 'COTY', 'COV', 'CPB', 'CPGX', 'CPNLQ', 'CPQ', 'CPRI', 'CPRT', 'CPT', 'CPWR', 'CR', 'CRL', 'CRM', 'CRR', 'CSCO', 'CSE', 'CSGP', 'CSR', 'CSRA', 'CSX', 'CTAS', 'CTB', 'CTL', 'CTLT', 'CTRA', 'CTSH', 'CTVA', 'CTX', 'CTXS', 'CVC', 'CVG', 'CVH', 'CVS', 'CVX', 'CXO', 'CYM', 'CYR', 'CZR', 'D', 'DAL', 'DALRQ', 'DCNAQ', 'DD', 'DDR', 'DDS', 'DE', 'DEC', 'DELL', 'DF', 'DFS', 'DG', 'DGN', 'DGX', 'DHI', 'DHR', 'DI', 'DIGI', 'DIS', 'DISCA', 'DISCK', 'DISH', 'DJ', 'DLR', 'DLTR', 'DLX', 'DNB', 'DNR', 'DO', 'DOV', 'DOW', 'DPHIQ', 'DPZ', 'DRE', 'DRI', 'DTE', 'DTV', 'DUK', 'DVA', 'DVN', 'DWD', 'DWDP', 'DXC', 'DXCM', 'DYN', 'EA', 'EBAY', 'EC', 'ECH', 'ECL', 'ECO', 'ED', 'EDS', 'EFU', 'EFX', 'EHC', 'EIX', 'EKDKQ', 'EL', 'ELV', 'EMC', 'EMN', 'EMR', 'ENDP', 'ENPH', 'ENRNQ', 'ENS', 'EOG', 'EOP', 'EP', 'EPAM', 'EQ', 'EQIX', 'EQR', 'EQT', 'ES', 'ESRX', 'ESS', 'ESV', 'ETFC', 'ETN', 'ETR', 'ETS', 'ETSY', 'EVHC', 'EVRG', 'EW', 'EXC', 'EXPD', 'EXPE', 'EXR', 'F', 'FANG', 'FAST', 'FB', 'FBF', 'FBHS', 'FBO', 'FCN', 'FCX', 'FDC', 'FDO', 'FDS', 'FDX', 'FE', 'FFIV', 'FG', 'FHN', 'FICO', 'FII', 'FIS', 'FISV', 'FITB', 'FJ', 'FL', 'FLIR', 'FLMIQ', 'FLR', 'FLS', 'FLT', 'FLTWQ', 'FMC', 'FMCC', 'FMY', 'FNMA', 'FOSL', 'FOX', 'FOXA', 'FPC', 'FRC', 'FRO', 'FRT', 'FRX', 'FSH', 'FSL', 'FSLR', 'FTI', 'FTL.A', 'FTNT', 'FTR', 'FTV', 'FWLT', 'G', 'GAPTQ', 'GAS', 'GD', 'GDT', 'GDW', 'GE', 'GEHC', 'GEN', 'GENZ', 'GFS.A', 'GGP', 'GHC', 'GIDL', 'GILD', 'GIS', 'GL', 'GLD', 'GLK', 'GLW', 'GM', 'GMCR', 'GME', 'GNRC', 'GNT', 'GNW', 'GOOG', 'GOOGL', 'GP', 'GPC', 'GPN', 'GPS', 'GPU', 'GR', 'GRA', 'GRMN', 'GRN', 'GS', 'GSX', 'GT', 'GTE', 'GTW', 'GWF', 'GWW', 'GX', 'H', 'HAL', 'HAR', 'HAS', 'HBAN', 'HBI', 'HBOC', 'HCA', 'HCBK', 'HCP', 'HCR', 'HD', 'HDLM', 'HES', 'HET', 'HFC', 'HFS', 'HI', 'HIG', 'HII', 'HLT', 'HM', 'HMA', 'HNZ', 'HOG', 'HOLX', 'HON', 'HOT', 'HP', 'HPC', 'HPE', 'HPH', 'HPQ', 'HRB', 'HRL', 'HRS', 'HSH', 'HSIC', 'HSP', 'HST', 'HSY', 'HUM', 'HWM', 'I', 'IAC', 'IBM', 'ICE', 'IDXX', 'IEX', 'IFF', 'IGT', 'IKN', 'ILMN', 'IMNX', 'INCLF', 'INCY', 'INFO', 'INGR', 'INTC', 'INTU', 'INVH', 'IP', 'IPG', 'IPGP', 'IQV', 'IR', 'IRM', 'ISRG', 'IT', 'ITT', 'ITW', 'IVZ', 'J', 'JAVA', 'JBHT', 'JBL', 'JCI', 'JCP', 'JEC', 'JEF', 'JH', 'JHF', 'JKHY', 'JNJ', 'JNPR', 'JNS', 'JNY', 'JOS', 'JOY', 'JP', 'JPM', 'JWN', 'K', 'KATE', 'KBH', 'KDP', 'KEY', 'KEYS', 'KG', 'KHC', 'KIM', 'KLAC', 'KM', 'KMB', 'KMG', 'KMI', 'KMX', 'KO', 'KORS', 'KR', 'KRB', 'KRFT', 'KRI', 'KSE', 'KSS', 'KSU', 'KWP', 'L', 'LB', 'LDG', 'LDOS', 'LDW.B', 'LEG', 'LEHMQ', 'LEN', 'LH', 'LHX', 'LIFE', 'LIN', 'LKQ', 'LLL', 'LLTC', 'LLX', 'LLY', 'LM', 'LMT', 'LNC', 'LNT', 'LO', 'LOR', 'LOW', 'LPX', 'LRCX', 'LSI', 'LU', 'LUB', 'LUMN', 'LUV', 'LVLT', 'LVS', 'LW', 'LXK', 'LYB', 'LYV', 'M', 'MA', 'MAA', 'MAC', 'MAR', 'MAS', 'MAT', 'MAY', 'MBI', 'MCD', 'MCHP', 'MCIC', 'MCK', 'MCO', 'MD', 'MDLZ', 'MDP', 'MDR', 'MDT', 'MEA', 'MEDI', 'MEE', 'MEL', 'MER', 'MERQ', 'MET', 'META', 'MFE', 'MGM', 'MHK', 'MHS', 'MI', 'MII', 'MIL', 'MIR', 'MJN', 'MKC', 'MKG', 'MKTX', 'MLM', 'MMC', 'MMI', 'MMM', 'MNK', 'MNR', 'MNST', 'MO', 'MOB', 'MOH', 'MOLX', 'MON', 'MOS', 'MPC', 'MPWR', 'MRK', 'MRNA', 'MRO', 'MS', 'MSCI', 'MSFT', 'MSI', 'MST', 'MTB', 'MTCH', 'MTD', 'MTG', 'MTL', 'MTLQQ', 'MTW', 'MU', 'MUR', 'MWI', 'MWV', 'MWW', 'MXIM', 'MYG', 'MYL', 'MZIAQ', 'NAE', 'NAV', 'NAVI', 'NBL', 'NBR', 'NC', 'NCC', 'NCE', 'NCLH', 'NCR', 'NDAQ', 'NDSN', 'NE', 'NEE', 'NEM', 'NFB', 'NFLX', 'NFX', 'NGH', 'NI', 'NKE', 'NKTR', 'NLC', 'NLOK', 'NLSN', 'NLV', 'NMK', 'NOC', 'NOV', 'NOVL', 'NOW', 'NRG', 'NRTLQ', 'NSC', 'NSI', 'NSM', 'NTAP', 'NTRS', 'NUE', 'NVDA', 'NVLS', 'NVR', 'NWL', 'NWS', 'NWSA', 'NXPI', 'NXTL', 'NYN', 'NYT', 'NYX', 'O', 'OAT', 'ODFL', 'ODP', 'OGN', 'OI', 'OK', 'OKE', 'OM', 'OMC', 'OMX', 'ON', 'ONE', 'ORCL', 'ORLY', 'ORX', 'OTIS', 'OWENQ', 'OXY', 'PAC', 'PALM', 'PARA', 'PAS', 'PAYC', 'PAYX', 'PBCT', 'PBG', 'PBI', 'PBY', 'PCAR', 'PCG', 'PCH', 'PCL', 'PCP', 'PCS', 'PD', 'PDCO', 'PDG', 'PEAK', 'PEG', 'PEL', 'PENN', 'PEP', 'PET', 'PETM', 'PFE', 'PFG', 'PG', 'PGL', 'PGN', 'PGR', 'PH', 'PHA', 'PHB', 'PHM', 'PKG', 'PKI', 'PLD', 'PLL', 'PM', 'PMCS', 'PMI', 'PNC', 'PNR', 'PNU', 'PNW', 'PODD', 'POM', 'POOL', 'PPG', 'PPL', 'PPW', 'PRD', 'PRGO', 'PRU', 'PSA', 'PSFT', 'PSX', 'PTC', 'PTV', 'PVH', 'PVN', 'PVT', 'PWER', 'PWJ', 'PWR', 'PX', 'PXD', 'PYPL', 'PZE', 'Q', 'QCOM', 'QEP', 'QLGC', 'QRVO', 'QTRN', 'R', 'RAD', 'RAI', 'RAL', 'RATL', 'RBD', 'RBK', 'RCL', 'RDC', 'RDS.A', 'RE', 'REG', 'REGN', 'RF', 'RHI', 'RHT', 'RIG', 'RJF', 'RL', 'RLM', 'RMD', 'RML', 'RNB', 'ROH', 'ROK', 'ROL', 'ROP', 'ROST', 'RRC', 'RRD', 'RSG', 'RSHCQ', 'RTN', 'RTX', 'RX', 'RYAN', 'RYC', 'RYI', 'S', 'SAF', 'SAI', 'SANM', 'SAPE', 'SB', 'SBAC', 'SBL', 'SBNY', 'SBUX', 'SCG', 'SCHW', 'SCI', 'SDS', 'SE', 'SEBL', 'SEDG', 'SEE', 'SEG', 'SFA', 'SFS', 'SGID', 'SGP', 'SHLD', 'SHN', 'SHW', 'SIAL', 'SIG', 'SII', 'SIVB', 'SJM', 'SK', 'SLB', 'SLG', 'SLM', 'SLR', 'SMI', 'SMS', 'SNA', 'SNDK', 'SNI', 'SNPS', 'SNT', 'SNV', 'SO', 'SOTR', 'SOV', 'SPG', 'SPGI', 'SPLS', 'SRCL', 'SRE', 'SRR', 'SSP', 'STE', 'STI', 'STJ', 'STLD', 'STO', 'STR', 'STT', 'STX', 'STZ', 'SUB', 'SUN', 'SUNEQ', 'SVU', 'SWK', 'SWKS', 'SWN', 'SWY', 'SXCL', 'SYF', 'SYK', 'SYMC', 'SYY', 'T', 'TA', 'TAP', 'TCOMA', 'TDC', 'TDG', 'TDM', 'TDY', 'TE', 'TECH', 'TEG', 'TEK', 'TEL', 'TEN', 'TER', 'TEX', 'TFC', 'TFX', 'TGNA', 'TGT', 'THC', 'THY', 'TIE', 'TIF', 'TIN', 'TJX', 'TKR', 'TLAB', 'TMC', 'TMC.A', 'TMK', 'TMO', 'TMUS', 'TNB', 'TOS', 'TOY', 'TPR', 'TRB', 'TRGP', 'TRIP', 'TRMB', 'TROW', 'TRV', 'TRW', 'TSCO', 'TSG', 'TSLA', 'TSN', 'TSS', 'TT', 'TTWO', 'TUP', 'TWC', 'TWTR', 'TWX', 'TX', 'TXN', 'TXT', 'TXU', 'TYL', 'UA', 'UAA', 'UAL', 'UAWGQ', 'UCC', 'UCL', 'UCM', 'UDR', 'UHS', 'UIS', 'UK', 'ULTA', 'UMG', 'UN', 'UNH', 'UNM', 'UNP', 'UPC', 'UPR', 'UPS', 'URBN', 'URI', 'USB', 'USBC', 'USH', 'USHC', 'USS', 'UST', 'USW', 'UTX', 'UVN', 'V', 'VAR', 'VAT', 'VFC', 'VIAB', 'VIAC', 'VIAV', 'VICI', 'VLO', 'VMC', 'VNO', 'VNT', 'VO', 'VRSK', 'VRSN', 'VRTS', 'VRTX', 'VSTNQ', 'VTR', 'VTRS', 'VTSS', 'VZ', 'WAB', 'WAI', 'WAMUQ', 'WAT', 'WB', 'WBA', 'WBD', 'WCG', 'WCOEQ', 'WDC', 'WEC', 'WELL', 'WEN', 'WFC', 'WFM', 'WFT', 'WHR', 'WIN', 'WLA', 'WLL', 'WLP', 'WLTW', 'WM', 'WMB', 'WMT', 'WMX', 'WNDXQ', 'WOR', 'WPX', 'WRB', 'WRK', 'WST', 'WTW', 'WU', 'WWY', 'WY', 'WYE', 'WYND', 'WYNN', 'X', 'XEC', 'XEL', 'XL', 'XLNX', 'XOM', 'XRAY', 'XRX', 'XTO', 'XYL', 'YNR', 'YRCW', 'YUM', 'ZBH', 'ZBRA', 'ZION', 'ZTS']\n",
      "1999-12-31\n",
      "['AAMRQ', 'AAPL', 'ABI', 'ABS', 'ABT', 'ABX', 'ACKH', 'ACV', 'ADBE', 'ADCT', 'ADM', 'ADP', 'ADSK', 'AEE', 'AEP', 'AES', 'AET', 'AFL', 'AFS.A', 'AGC', 'AGN', 'AIG', 'AIT', 'AL', 'ALL', 'AM', 'AMAT', 'AMD', 'AMGN', 'ANDW', 'AON', 'APA', 'APC', 'APD', 'AR', 'ARC', 'ARNC', 'ASH', 'ASO', 'AT', 'ATI', 'AVP', 'AVY', 'AW', 'AXP', 'AZA.A', 'AZO', 'BA', 'BAC', 'BAX', 'BBBY', 'BBT', 'BBY', 'BC', 'BCR', 'BDK', 'BDX', 'BEAM', 'BEN', 'BF.B', 'BFO', 'BGG', 'BHGE', 'BHMSQ', 'BIG', 'BK', 'BLL', 'BLS', 'BMC', 'BMET', 'BMS', 'BMY', 'BNI', 'BOL', 'BR', 'BSC', 'BSX', 'BUD', 'C', 'CA', 'CAG', 'CAH', 'CAR', 'CAT', 'CB', 'CBE', 'CBS', 'CCE', 'CCK', 'CCL', 'CCTYQ', 'CCU', 'CEG', 'CEN', 'CFC', 'CG', 'CGP', 'CHA', 'CI', 'CIN', 'CINF', 'CL', 'CLX', 'CMA', 'CMCSA', 'CMI', 'CMS', 'CNC', 'CNG', 'CNP', 'COC.B', 'COF', 'COMS', 'COP', 'COST', 'CPB', 'CPQ', 'CPWR', 'CR', 'CSCO', 'CSE', 'CSR', 'CSX', 'CTB', 'CTL', 'CTX', 'CVS', 'CVX', 'CYM', 'D', 'DALRQ', 'DCNAQ', 'DD', 'DDS', 'DE', 'DELL', 'DG', 'DGN', 'DHR', 'DIS', 'DJ', 'DLX', 'DOV', 'DOW', 'DPHIQ', 'DRI', 'DTE', 'DUK', 'DXC', 'EC', 'ECL', 'ED', 'EDS', 'EFU', 'EFX', 'EHC', 'EIX', 'EKDKQ', 'EMC', 'EMN', 'EMR', 'ENRNQ', 'ETN', 'ETR', 'ETS', 'EXC', 'F', 'FBF', 'FCX', 'FDC', 'FDX', 'FE', 'FITB', 'FJ', 'FLTWQ', 'FMC', 'FMCC', 'FNMA', 'FPC', 'FWLT', 'G', 'GAPTQ', 'GAS', 'GD', 'GDT', 'GDW', 'GE', 'GIS', 'GLK', 'GLW', 'GP', 'GPC', 'GPS', 'GPU', 'GR', 'GRA', 'GT', 'GTE', 'GTW', 'GWW', 'GX', 'H', 'HAL', 'HAS', 'HBAN', 'HCA', 'HCR', 'HD', 'HES', 'HET', 'HI', 'HIG', 'HLT', 'HM', 'HNZ', 'HON', 'HP', 'HPC', 'HPQ', 'HRB', 'HRS', 'HSH', 'HSY', 'HUM', 'IBM', 'IFF', 'IKN', 'INCLF', 'INTC', 'IP', 'IPG', 'IR', 'ITT', 'ITW', 'JAVA', 'JCI', 'JCP', 'JNJ', 'JOS', 'JP', 'JPM', 'JWN', 'K', 'KATE', 'KBH', 'KEY', 'KLAC', 'KM', 'KMB', 'KMG', 'KO', 'KR', 'KRB', 'KRI', 'KSS', 'KSU', 'KWP', 'L', 'LB', 'LDG', 'LDW.B', 'LEHMQ', 'LLY', 'LMT', 'LNC', 'LOW', 'LPX', 'LSI', 'LU', 'LUV', 'LXK', 'M', 'MAR', 'MAS', 'MAT', 'MAY', 'MBI', 'MCD', 'MCK', 'MCO', 'MDP', 'MDR', 'MDT', 'MEA', 'MEE', 'MEL', 'MER', 'MIL', 'MIR', 'MKG', 'MMC', 'MMM', 'MO', 'MOB', 'MRK', 'MRO', 'MS', 'MSFT', 'MSI', 'MTG', 'MTLQQ', 'MU', 'MWV', 'MYG', 'MZIAQ', 'NAV', 'NC', 'NCC', 'NCE', 'NEE', 'NEM', 'NGH', 'NKE', 'NLV', 'NMK', 'NOC', 'NOVL', 'NRTLQ', 'NSC', 'NSI', 'NSM', 'NTAP', 'NTRS', 'NUE', 'NWL', 'NXTL', 'NYT', 'OAT', 'ODP', 'OI', 'OKE', 'OMC', 'OMX', 'ONE', 'ORCL', 'OWENQ', 'OXY', 'PAYX', 'PBI', 'PBY', 'PCAR', 'PCG', 'PCH', 'PCS', 'PD', 'PDG', 'PEG', 'PEP', 'PFE', 'PG', 'PGL', 'PGN', 'PGR', 'PH', 'PHA', 'PHB', 'PHM', 'PKI', 'PLL', 'PNC', 'PNU', 'PPG', 'PPL', 'PPW', 'PRD', 'PSFT', 'PTC', 'PVN', 'PWJ', 'PX', 'QCOM', 'R', 'RAD', 'RAL', 'RBK', 'RDC', 'RDS.A', 'RF', 'RLM', 'RML', 'RNB', 'ROH', 'ROK', 'RRD', 'RSHCQ', 'RTN', 'RX', 'S', 'SAF', 'SCHW', 'SCI', 'SEE', 'SEG', 'SFA', 'SGID', 'SGP', 'SHW', 'SIAL', 'SLB', 'SLM', 'SLR', 'SMI', 'SMS', 'SNA', 'SNT', 'SNV', 'SO', 'SOTR', 'SPGI', 'SPLS', 'SRE', 'STI', 'STJ', 'STT', 'SUB', 'SUN', 'SVU', 'SWK', 'SWY', 'SXCL', 'SYY', 'T', 'TAP', 'TEK', 'TEN', 'TGNA', 'TGT', 'THC', 'TIN', 'TJX', 'TKR', 'TLAB', 'TMC', 'TMC.A', 'TMK', 'TMO', 'TNB', 'TOS', 'TOY', 'TRB', 'TRV', 'TRW', 'TUP', 'TWX', 'TX', 'TXN', 'TXT', 'TXU', 'UAWGQ', 'UCL', 'UCM', 'UIS', 'UK', 'UMG', 'UN', 'UNH', 'UNM', 'UNP', 'UPC', 'UPR', 'USB', 'UST', 'USW', 'UTX', 'VFC', 'VMC', 'VO', 'VZ', 'WAMUQ', 'WB', 'WBA', 'WCOEQ', 'WEN', 'WFC', 'WHR', 'WLA', 'WLL', 'WLP', 'WM', 'WMB', 'WMT', 'WNDXQ', 'WOR', 'WWY', 'WY', 'WYE', 'X', 'XEL', 'XOM', 'XRX', 'YUM']\n"
     ]
    }
   ],
   "source": [
    "# imports\n",
    "from quarter_list import quarters\n",
    "from get_s_and_p_list import get_ticker_list_for_target_date\n",
    "\n",
    "# define target_date\n",
    "first_quarter = quarters[0]\n",
    "target_date = first_quarter.strftime(\"%Y-%m-%d\")\n",
    "\n",
    "ticker_list = get_ticker_list_for_target_date(target_date)\n",
    "\n",
    "print(target_date)\n",
    "print(ticker_list)"
   ],
   "metadata": {
    "collapsed": false,
    "pycharm": {
     "name": "#%%\n"
    }
   }
  },
  {
   "cell_type": "code",
   "execution_count": 2,
   "outputs": [
    {
     "name": "stdout",
     "output_type": "stream",
     "text": [
      "None\n",
      "0.778050203202955\n",
      "None\n"
     ]
    },
    {
     "ename": "KeyError",
     "evalue": "'timestamp'",
     "output_type": "error",
     "traceback": [
      "\u001B[1;31m---------------------------------------------------------------------------\u001B[0m",
      "\u001B[1;31mKeyError\u001B[0m                                  Traceback (most recent call last)",
      "File \u001B[1;32m~\\anaconda3\\lib\\site-packages\\pandas\\core\\indexes\\base.py:3653\u001B[0m, in \u001B[0;36mIndex.get_loc\u001B[1;34m(self, key)\u001B[0m\n\u001B[0;32m   3652\u001B[0m \u001B[38;5;28;01mtry\u001B[39;00m:\n\u001B[1;32m-> 3653\u001B[0m     \u001B[38;5;28;01mreturn\u001B[39;00m \u001B[38;5;28;43mself\u001B[39;49m\u001B[38;5;241;43m.\u001B[39;49m\u001B[43m_engine\u001B[49m\u001B[38;5;241;43m.\u001B[39;49m\u001B[43mget_loc\u001B[49m\u001B[43m(\u001B[49m\u001B[43mcasted_key\u001B[49m\u001B[43m)\u001B[49m\n\u001B[0;32m   3654\u001B[0m \u001B[38;5;28;01mexcept\u001B[39;00m \u001B[38;5;167;01mKeyError\u001B[39;00m \u001B[38;5;28;01mas\u001B[39;00m err:\n",
      "File \u001B[1;32m~\\anaconda3\\lib\\site-packages\\pandas\\_libs\\index.pyx:147\u001B[0m, in \u001B[0;36mpandas._libs.index.IndexEngine.get_loc\u001B[1;34m()\u001B[0m\n",
      "File \u001B[1;32m~\\anaconda3\\lib\\site-packages\\pandas\\_libs\\index.pyx:176\u001B[0m, in \u001B[0;36mpandas._libs.index.IndexEngine.get_loc\u001B[1;34m()\u001B[0m\n",
      "File \u001B[1;32mpandas\\_libs\\hashtable_class_helper.pxi:7080\u001B[0m, in \u001B[0;36mpandas._libs.hashtable.PyObjectHashTable.get_item\u001B[1;34m()\u001B[0m\n",
      "File \u001B[1;32mpandas\\_libs\\hashtable_class_helper.pxi:7088\u001B[0m, in \u001B[0;36mpandas._libs.hashtable.PyObjectHashTable.get_item\u001B[1;34m()\u001B[0m\n",
      "\u001B[1;31mKeyError\u001B[0m: 'timestamp'",
      "\nThe above exception was the direct cause of the following exception:\n",
      "\u001B[1;31mKeyError\u001B[0m                                  Traceback (most recent call last)",
      "Cell \u001B[1;32mIn[2], line 4\u001B[0m\n\u001B[0;32m      1\u001B[0m \u001B[38;5;28;01mfrom\u001B[39;00m \u001B[38;5;21;01mget_market_data\u001B[39;00m \u001B[38;5;28;01mimport\u001B[39;00m get_closing_price_on_target_date\n\u001B[0;32m      3\u001B[0m \u001B[38;5;28;01mfor\u001B[39;00m ticker \u001B[38;5;129;01min\u001B[39;00m ticker_list:\n\u001B[1;32m----> 4\u001B[0m     price \u001B[38;5;241m=\u001B[39m \u001B[43mget_closing_price_on_target_date\u001B[49m\u001B[43m(\u001B[49m\u001B[43mticker\u001B[49m\u001B[43m,\u001B[49m\u001B[43m \u001B[49m\u001B[43mtarget_date\u001B[49m\u001B[43m)\u001B[49m\n\u001B[0;32m      5\u001B[0m     \u001B[38;5;28mprint\u001B[39m(price)\n",
      "File \u001B[1;32m~\\graham_number\\get_market_data.py:50\u001B[0m, in \u001B[0;36mget_closing_price_on_target_date\u001B[1;34m(ticker, target_date)\u001B[0m\n\u001B[0;32m     48\u001B[0m df \u001B[38;5;241m=\u001B[39m get_time_series_daily_adjusted(ticker, api_key)\n\u001B[0;32m     49\u001B[0m \u001B[38;5;28;01mfor\u001B[39;00m index, row \u001B[38;5;129;01min\u001B[39;00m df\u001B[38;5;241m.\u001B[39miterrows():\n\u001B[1;32m---> 50\u001B[0m     \u001B[38;5;28;01mtry\u001B[39;00m:\n\u001B[0;32m     51\u001B[0m         \u001B[38;5;28;01mif\u001B[39;00m row[\u001B[38;5;124m'\u001B[39m\u001B[38;5;124mtimestamp\u001B[39m\u001B[38;5;124m'\u001B[39m] \u001B[38;5;241m==\u001B[39m target_date:\n\u001B[0;32m     52\u001B[0m             closing_price \u001B[38;5;241m=\u001B[39m row[\u001B[38;5;124m'\u001B[39m\u001B[38;5;124madjusted_close\u001B[39m\u001B[38;5;124m'\u001B[39m]\n",
      "File \u001B[1;32m~\\anaconda3\\lib\\site-packages\\pandas\\core\\series.py:1007\u001B[0m, in \u001B[0;36mSeries.__getitem__\u001B[1;34m(self, key)\u001B[0m\n\u001B[0;32m   1004\u001B[0m     \u001B[38;5;28;01mreturn\u001B[39;00m \u001B[38;5;28mself\u001B[39m\u001B[38;5;241m.\u001B[39m_values[key]\n\u001B[0;32m   1006\u001B[0m \u001B[38;5;28;01melif\u001B[39;00m key_is_scalar:\n\u001B[1;32m-> 1007\u001B[0m     \u001B[38;5;28;01mreturn\u001B[39;00m \u001B[38;5;28;43mself\u001B[39;49m\u001B[38;5;241;43m.\u001B[39;49m\u001B[43m_get_value\u001B[49m\u001B[43m(\u001B[49m\u001B[43mkey\u001B[49m\u001B[43m)\u001B[49m\n\u001B[0;32m   1009\u001B[0m \u001B[38;5;28;01mif\u001B[39;00m is_hashable(key):\n\u001B[0;32m   1010\u001B[0m     \u001B[38;5;66;03m# Otherwise index.get_value will raise InvalidIndexError\u001B[39;00m\n\u001B[0;32m   1011\u001B[0m     \u001B[38;5;28;01mtry\u001B[39;00m:\n\u001B[0;32m   1012\u001B[0m         \u001B[38;5;66;03m# For labels that don't resolve as scalars like tuples and frozensets\u001B[39;00m\n",
      "File \u001B[1;32m~\\anaconda3\\lib\\site-packages\\pandas\\core\\series.py:1116\u001B[0m, in \u001B[0;36mSeries._get_value\u001B[1;34m(self, label, takeable)\u001B[0m\n\u001B[0;32m   1113\u001B[0m     \u001B[38;5;28;01mreturn\u001B[39;00m \u001B[38;5;28mself\u001B[39m\u001B[38;5;241m.\u001B[39m_values[label]\n\u001B[0;32m   1115\u001B[0m \u001B[38;5;66;03m# Similar to Index.get_value, but we do not fall back to positional\u001B[39;00m\n\u001B[1;32m-> 1116\u001B[0m loc \u001B[38;5;241m=\u001B[39m \u001B[38;5;28;43mself\u001B[39;49m\u001B[38;5;241;43m.\u001B[39;49m\u001B[43mindex\u001B[49m\u001B[38;5;241;43m.\u001B[39;49m\u001B[43mget_loc\u001B[49m\u001B[43m(\u001B[49m\u001B[43mlabel\u001B[49m\u001B[43m)\u001B[49m\n\u001B[0;32m   1118\u001B[0m \u001B[38;5;28;01mif\u001B[39;00m is_integer(loc):\n\u001B[0;32m   1119\u001B[0m     \u001B[38;5;28;01mreturn\u001B[39;00m \u001B[38;5;28mself\u001B[39m\u001B[38;5;241m.\u001B[39m_values[loc]\n",
      "File \u001B[1;32m~\\anaconda3\\lib\\site-packages\\pandas\\core\\indexes\\base.py:3655\u001B[0m, in \u001B[0;36mIndex.get_loc\u001B[1;34m(self, key)\u001B[0m\n\u001B[0;32m   3653\u001B[0m     \u001B[38;5;28;01mreturn\u001B[39;00m \u001B[38;5;28mself\u001B[39m\u001B[38;5;241m.\u001B[39m_engine\u001B[38;5;241m.\u001B[39mget_loc(casted_key)\n\u001B[0;32m   3654\u001B[0m \u001B[38;5;28;01mexcept\u001B[39;00m \u001B[38;5;167;01mKeyError\u001B[39;00m \u001B[38;5;28;01mas\u001B[39;00m err:\n\u001B[1;32m-> 3655\u001B[0m     \u001B[38;5;28;01mraise\u001B[39;00m \u001B[38;5;167;01mKeyError\u001B[39;00m(key) \u001B[38;5;28;01mfrom\u001B[39;00m \u001B[38;5;21;01merr\u001B[39;00m\n\u001B[0;32m   3656\u001B[0m \u001B[38;5;28;01mexcept\u001B[39;00m \u001B[38;5;167;01mTypeError\u001B[39;00m:\n\u001B[0;32m   3657\u001B[0m     \u001B[38;5;66;03m# If we have a listlike key, _check_indexing_error will raise\u001B[39;00m\n\u001B[0;32m   3658\u001B[0m     \u001B[38;5;66;03m#  InvalidIndexError. Otherwise we fall through and re-raise\u001B[39;00m\n\u001B[0;32m   3659\u001B[0m     \u001B[38;5;66;03m#  the TypeError.\u001B[39;00m\n\u001B[0;32m   3660\u001B[0m     \u001B[38;5;28mself\u001B[39m\u001B[38;5;241m.\u001B[39m_check_indexing_error(key)\n",
      "\u001B[1;31mKeyError\u001B[0m: 'timestamp'"
     ]
    }
   ],
   "source": [
    "from get_market_data import get_closing_price_on_target_date\n",
    "\n",
    "for ticker in ticker_list:\n",
    "    price = get_closing_price_on_target_date(ticker, target_date)\n",
    "    print(price)"
   ],
   "metadata": {
    "collapsed": false,
    "pycharm": {
     "name": "#%%\n"
    }
   }
  },
  {
   "cell_type": "markdown",
   "source": [
    "22.11.23: build pipeline with defining quarters not dates:"
   ],
   "metadata": {
    "collapsed": false,
    "pycharm": {
     "name": "#%% md\n"
    }
   }
  },
  {
   "cell_type": "code",
   "execution_count": 2,
   "outputs": [
    {
     "name": "stdout",
     "output_type": "stream",
     "text": [
      "         date quarter  year\n",
      "0  1999-12-31      Q4  1999\n",
      "1  2000-03-31      Q1  2000\n",
      "2  2000-06-30      Q2  2000\n",
      "3  2000-09-30      Q3  2000\n",
      "4  2000-12-31      Q4  2000\n",
      "..        ...     ...   ...\n",
      "88 2021-12-31      Q4  2021\n",
      "89 2022-03-31      Q1  2022\n",
      "90 2022-06-30      Q2  2022\n",
      "91 2022-09-30      Q3  2022\n",
      "92 2022-12-31      Q4  2022\n",
      "\n",
      "[93 rows x 3 columns]\n"
     ]
    }
   ],
   "source": [
    "\n",
    "import pandas as pd\n",
    "\n",
    "\n",
    "# start and end date\n",
    "start_date = \"1999-12-31\"\n",
    "end_date = \"2022-12-31\"\n",
    "\n",
    "# quarterly: freq='Q'\n",
    "quarters = pd.date_range(start=start_date, end=end_date, freq='Q')\n",
    "\n",
    "quarters_df = pd.DataFrame({'date': quarters})\n",
    "\n",
    "# Extract quarter and year information\n",
    "quarters_df['quarter'] = quarters_df['date'].dt.to_period(\"Q\")\n",
    "quarters_df['year'] = quarters_df['date'].dt.year\n",
    "quarters_df['quarter'] = 'Q' + quarters_df['quarter'].astype(str).str.split('Q').str[1]\n",
    "\n",
    "print(quarters_df)"
   ],
   "metadata": {
    "collapsed": false,
    "pycharm": {
     "name": "#%%\n"
    }
   }
  },
  {
   "cell_type": "code",
   "execution_count": 15,
   "outputs": [
    {
     "name": "stdout",
     "output_type": "stream",
     "text": [
      "       timestamp    open     high      low   close  adjusted_close    volume  \\\n",
      "0     2023-11-22  191.49  192.930  190.825  191.31      191.310000  39630011   \n",
      "1     2023-11-21  191.41  191.520  189.740  190.64      190.640000  38134485   \n",
      "2     2023-11-20  189.89  191.905  189.880  191.45      191.450000  46538614   \n",
      "3     2023-11-17  190.25  190.380  188.570  189.69      189.690000  50941404   \n",
      "4     2023-11-16  189.57  190.960  188.650  189.71      189.710000  54412915   \n",
      "...          ...     ...      ...      ...     ...             ...       ...   \n",
      "6050  1999-11-05   84.62   88.370   84.000   88.31        0.668316   3721500   \n",
      "6051  1999-11-04   82.06   85.370   80.620   83.62        0.632823   3384700   \n",
      "6052  1999-11-03   81.62   83.250   81.000   81.50        0.616779   2932700   \n",
      "6053  1999-11-02   78.00   81.690   77.310   80.25        0.607320   3564600   \n",
      "6054  1999-11-01   80.00   80.690   77.370   77.62        0.587416   2487300   \n",
      "\n",
      "      dividend_amount  split_coefficient  \n",
      "0                 0.0                1.0  \n",
      "1                 0.0                1.0  \n",
      "2                 0.0                1.0  \n",
      "3                 0.0                1.0  \n",
      "4                 0.0                1.0  \n",
      "...               ...                ...  \n",
      "6050              0.0                1.0  \n",
      "6051              0.0                1.0  \n",
      "6052              0.0                1.0  \n",
      "6053              0.0                1.0  \n",
      "6054              0.0                1.0  \n",
      "\n",
      "[6055 rows x 9 columns]\n"
     ]
    }
   ],
   "source": [
    "from credentials import api_key\n",
    "\n",
    "# function to get market data for specific date:\n",
    "def get_closing_price_on_target_date(ticker, key, target_date):\n",
    "    # endpoint for full output size daily adjusted times series\n",
    "    url = f'https://www.alphavantage.co/query?function=TIME_SERIES_DAILY_ADJUSTED&symbol={ticker}&outputsize=full&apikey={key}&datatype=csv'\n",
    "    csv = pd.read_csv(url)\n",
    "    df = pd.DataFrame(csv)\n",
    "\n",
    "    for index, row in df.iterrows():\n",
    "        try:\n",
    "            if row['timestamp'] == target_date:\n",
    "                closing_price = row['close']\n",
    "                return closing_price\n",
    "        except:\n",
    "            print(f'something went wrong getting the {closing_price}')\n",
    "\n",
    "print(get_closing_price_on_target_date('AAPL', api_key, '2000-01-01'))"
   ],
   "metadata": {
    "collapsed": false,
    "pycharm": {
     "name": "#%%\n"
    }
   }
  },
  {
   "cell_type": "code",
   "execution_count": 12,
   "outputs": [
    {
     "data": {
      "text/plain": "'            try:\\n                # calculate eps and bvps through ratios\\n                calculated_eps = closing_price / price_earnings_ratio\\n                calculated_bvps = closing_price / price_to_book_ratio\\n\\n                # calculate graham number\\n                graham_number = math.sqrt(22.5 * calculated_eps * calculated_bvps)\\n                return graham_number\\n            except Exception as e:\\n                print(f\\'There was a problem calculating graham number: {e}\\')\\n                return None\\n\\n    # If no matching quarter and year is found\\n    print(f\"No matching quarter and year found for {target_quarter} {target_year}\")\\n    return None'"
     },
     "execution_count": 12,
     "metadata": {},
     "output_type": "execute_result"
    }
   ],
   "source": [
    "from get_fmp_data import get_ratios_from_ticker\n",
    "import math\n",
    "\n",
    "def calculate_graham_number(ticker, target_quarter, target_year, key):\n",
    "    # get ratios dataframe from json zip\n",
    "    ratio_df = get_ratios_from_ticker('sp-500_Income_Ratio.zip', ticker)\n",
    "\n",
    "    # iterate over ratios dataframe\n",
    "    for index, row in ratio_df.iterrows():\n",
    "        quarter = row['period']\n",
    "        year = str(row['calendarYear'])\n",
    "\n",
    "        # extract p/e and p/b at target quarter and year\n",
    "        if quarter == target_quarter and year == target_year:\n",
    "            target_date = row['date'].strftime(\"%Y-%m-%d\")\n",
    "            print(target_date)\n",
    "            price_to_book_ratio = row['priceToBookRatio']\n",
    "            print(price_to_book_ratio)\n",
    "            price_earnings_ratio = row['priceEarningsRatio']\n",
    "            print(price_earnings_ratio)\n",
    "\n",
    "            # get the closing price for the same date as in the ratios\n",
    "            closing_price = get_closing_price_on_target_date(ticker, key, target_date)\n",
    "            print(closing_price)\n",
    "'''            try:\n",
    "                # calculate eps and bvps through ratios\n",
    "                calculated_eps = closing_price / price_earnings_ratio\n",
    "                calculated_bvps = closing_price / price_to_book_ratio\n",
    "\n",
    "                # calculate graham number\n",
    "                graham_number = math.sqrt(22.5 * calculated_eps * calculated_bvps)\n",
    "                return graham_number\n",
    "            except Exception as e:\n",
    "                print(f'There was a problem calculating graham number: {e}')\n",
    "                return None\n",
    "\n",
    "    # If no matching quarter and year is found\n",
    "    print(f\"No matching quarter and year found for {target_quarter} {target_year}\")\n",
    "    return None'''"
   ],
   "metadata": {
    "collapsed": false,
    "pycharm": {
     "name": "#%%\n"
    }
   }
  },
  {
   "cell_type": "code",
   "execution_count": 8,
   "outputs": [
    {
     "name": "stdout",
     "output_type": "stream",
     "text": [
      "31.881068545802016\n"
     ]
    }
   ],
   "source": [
    "from credentials import api_key\n",
    "\n",
    "ticker = 'ABT'\n",
    "print(calculate_graham_number(ticker, 'Q1', '2000', api_key))"
   ],
   "metadata": {
    "collapsed": false,
    "pycharm": {
     "name": "#%%\n"
    }
   }
  },
  {
   "cell_type": "code",
   "execution_count": 13,
   "outputs": [
    {
     "name": "stdout",
     "output_type": "stream",
     "text": [
      "2000-01-01\n",
      "3.75097266122338\n",
      "22.618570118360655\n",
      "None\n",
      "None\n",
      "2000-03-31\n",
      "3.106526279639203\n",
      "8.824300353412982\n",
      "35.19\n",
      "None\n",
      "2000-03-31\n",
      "1.135759664882304\n",
      "16.718543433402242\n",
      "10.31\n",
      "None\n",
      "1999-09-30\n",
      "5.397072241897272\n",
      "37.785965937072504\n",
      "None\n",
      "None\n",
      "1999-04-30\n",
      "10.879103319888303\n",
      "-102.52441520467836\n",
      "None\n",
      "None\n"
     ]
    }
   ],
   "source": [
    "ticker_list = ['AAPL', 'ABT', 'ADM', 'ADP', 'ADSK']\n",
    "for ticker in ticker_list:\n",
    "    print(calculate_graham_number(ticker, 'Q1', '2000', api_key))"
   ],
   "metadata": {
    "collapsed": false,
    "pycharm": {
     "name": "#%%\n"
    }
   }
  },
  {
   "cell_type": "code",
   "execution_count": null,
   "outputs": [],
   "source": [],
   "metadata": {
    "collapsed": false,
    "pycharm": {
     "name": "#%%\n"
    }
   }
  }
 ],
 "metadata": {
  "kernelspec": {
   "display_name": "Python 3",
   "language": "python",
   "name": "python3"
  },
  "language_info": {
   "codemirror_mode": {
    "name": "ipython",
    "version": 2
   },
   "file_extension": ".py",
   "mimetype": "text/x-python",
   "name": "python",
   "nbconvert_exporter": "python",
   "pygments_lexer": "ipython2",
   "version": "2.7.6"
  }
 },
 "nbformat": 4,
 "nbformat_minor": 0
}