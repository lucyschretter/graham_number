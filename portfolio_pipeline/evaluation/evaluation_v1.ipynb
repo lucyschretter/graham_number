{
 "cells": [
  {
   "cell_type": "code",
   "execution_count": null,
   "metadata": {
    "collapsed": true
   },
   "outputs": [],
   "source": [
    "# test portfolio : {ticker : ratio(graham_number/price)\n",
    "test_dictionary = {'MSFT': 0.13963799348298295,\n",
    "                   'PEP': 0.12020944922261735,\n",
    "                   'AAPL': 0.03260789823106461}\n"
   ]
  },
  {
   "cell_type": "code",
   "execution_count": 20,
   "outputs": [],
   "source": [
    "import pandas as pd\n",
    "import zipfile\n"
   ],
   "metadata": {
    "collapsed": false,
    "pycharm": {
     "name": "#%%\n"
    }
   }
  },
  {
   "cell_type": "code",
   "execution_count": 21,
   "outputs": [
    {
     "name": "stdout",
     "output_type": "stream",
     "text": [
      "    symbol       date  calendarYear period  revenuePerShare  \\\n",
      "0     MSFT 2023-09-30          2024     Q1         7.580899   \n",
      "1     MSFT 2023-06-30          2023     Q4         7.526738   \n",
      "2     MSFT 2023-03-31          2023     Q3         7.076870   \n",
      "3     MSFT 2022-12-31          2023     Q2         7.065047   \n",
      "4     MSFT 2022-09-30          2023     Q1         6.709199   \n",
      "..     ...        ...           ...    ...              ...   \n",
      "148   MSFT 1986-09-30          1987     Q1         0.009098   \n",
      "149   MSFT 1986-06-30          1986     Q4         0.008705   \n",
      "150   MSFT 1986-03-31          1986     Q3         0.007102   \n",
      "151   MSFT 1985-12-31          1986     Q2         0.005985   \n",
      "152   MSFT 1985-09-30          1986     Q1         0.005985   \n",
      "\n",
      "     netIncomePerShare  operatingCashFlowPerShare  freeCashFlowPerShare  \\\n",
      "0             2.990000                   4.102246              2.772031   \n",
      "1             2.689929                   3.853855              2.655905   \n",
      "2             2.450000                   3.272335              2.387742   \n",
      "3             2.200000                   1.496536              0.656183   \n",
      "4             2.350000                   3.105223              2.264197   \n",
      "..                 ...                        ...                   ...   \n",
      "148           0.000000                        NaN                   NaN   \n",
      "149           0.000000                        NaN                   NaN   \n",
      "150           0.000000                        NaN                   NaN   \n",
      "151           0.000000                        NaN                   NaN   \n",
      "152           0.000000                        NaN                   NaN   \n",
      "\n",
      "     cashPerShare  bookValuePerShare  ...  averagePayables  averageInventory  \\\n",
      "0       19.308041          29.605440  ...     1.870100e+10      2.750000e+09   \n",
      "1       14.903983          27.624383  ...     1.670000e+10      2.688500e+09   \n",
      "2       13.981428          26.065542  ...     1.532950e+10      2.928500e+09   \n",
      "3       13.328317          24.529632  ...     1.598150e+10      3.624000e+09   \n",
      "4       14.355400          23.233088  ...     1.780450e+10      4.005000e+09   \n",
      "..            ...                ...  ...              ...               ...   \n",
      "148           NaN                NaN  ...              NaN               NaN   \n",
      "149      0.014443           0.019590  ...              NaN               NaN   \n",
      "150           NaN                NaN  ...              NaN               NaN   \n",
      "151           NaN                NaN  ...              NaN               NaN   \n",
      "152           NaN                NaN  ...              NaN               NaN   \n",
      "\n",
      "     daysSalesOutstanding  daysPayablesOutstanding  daysOfInventoryOnHand  \\\n",
      "0               58.845480               106.589989              16.562385   \n",
      "1               77.985371                96.096654              13.276686   \n",
      "2               63.715307                85.407366              16.054688   \n",
      "3               61.140349                79.017612              15.336231   \n",
      "4               56.165157                96.738933              24.858918   \n",
      "..                    ...                      ...                    ...   \n",
      "148                   NaN                 0.000000               0.000000   \n",
      "149             50.161551                 0.000000               0.000000   \n",
      "150                   NaN                 0.000000               0.000000   \n",
      "151                   NaN                 0.000000               0.000000   \n",
      "152                   NaN                 0.000000               0.000000   \n",
      "\n",
      "     receivablesTurnover  payablesTurnover  inventoryTurnover       roe  \\\n",
      "0               1.529429          0.844357           5.434000  0.100995   \n",
      "1               1.154063          0.936557           6.778800  0.097375   \n",
      "2               1.412533          1.053773           5.605839  0.093994   \n",
      "3               1.472023          1.138987           5.868456  0.089687   \n",
      "4               1.602417          0.930339           3.620431  0.101149   \n",
      "..                   ...               ...                ...       ...   \n",
      "148             0.000000          0.000000           0.000000  0.000000   \n",
      "149             1.794203          0.000000           0.000000  0.000000   \n",
      "150             0.000000          0.000000           0.000000  0.000000   \n",
      "151             0.000000          0.000000           0.000000  0.000000   \n",
      "152             0.000000          0.000000           0.000000  0.000000   \n",
      "\n",
      "     capexPerShare  \n",
      "0        -1.330215  \n",
      "1        -1.197950  \n",
      "2        -0.884592  \n",
      "3        -0.840353  \n",
      "4        -0.841026  \n",
      "..             ...  \n",
      "148            NaN  \n",
      "149            NaN  \n",
      "150            NaN  \n",
      "151            NaN  \n",
      "152            NaN  \n",
      "\n",
      "[153 rows x 61 columns]\n",
      "Index(['symbol', 'date', 'calendarYear', 'period', 'revenuePerShare',\n",
      "       'netIncomePerShare', 'operatingCashFlowPerShare',\n",
      "       'freeCashFlowPerShare', 'cashPerShare', 'bookValuePerShare',\n",
      "       'tangibleBookValuePerShare', 'shareholdersEquityPerShare',\n",
      "       'interestDebtPerShare', 'marketCap', 'enterpriseValue', 'peRatio',\n",
      "       'priceToSalesRatio', 'pocfratio', 'pfcfRatio', 'pbRatio', 'ptbRatio',\n",
      "       'evToSales', 'enterpriseValueOverEBITDA', 'evToOperatingCashFlow',\n",
      "       'evToFreeCashFlow', 'earningsYield', 'freeCashFlowYield',\n",
      "       'debtToEquity', 'debtToAssets', 'netDebtToEBITDA', 'currentRatio',\n",
      "       'interestCoverage', 'incomeQuality', 'dividendYield', 'payoutRatio',\n",
      "       'salesGeneralAndAdministrativeToRevenue',\n",
      "       'researchAndDdevelopementToRevenue', 'intangiblesToTotalAssets',\n",
      "       'capexToOperatingCashFlow', 'capexToRevenue', 'capexToDepreciation',\n",
      "       'stockBasedCompensationToRevenue', 'grahamNumber', 'roic',\n",
      "       'returnOnTangibleAssets', 'grahamNetNet', 'workingCapital',\n",
      "       'tangibleAssetValue', 'netCurrentAssetValue', 'investedCapital',\n",
      "       'averageReceivables', 'averagePayables', 'averageInventory',\n",
      "       'daysSalesOutstanding', 'daysPayablesOutstanding',\n",
      "       'daysOfInventoryOnHand', 'receivablesTurnover', 'payablesTurnover',\n",
      "       'inventoryTurnover', 'roe', 'capexPerShare'],\n",
      "      dtype='object')\n"
     ]
    }
   ],
   "source": [
    "# get data\n",
    "\n",
    "ticker = 'MSFT'\n",
    "\n",
    "def get_key_metrics(zip_file_path: str, ticker: str):\n",
    "    \"\"\"\n",
    "    :param zip_file_path: file path of the zip folder the key_metrics.json file is stored in\n",
    "    :param ticker: ticker symbol as string\n",
    "    :return: pandas dataframe containing key metrics for the given ticker symbol\n",
    "    \"\"\"\n",
    "    file_name = f'{ticker}_key-metrics.json'\n",
    "    with zipfile.ZipFile(zip_file_path, 'r') as zip_ref:\n",
    "        with zip_ref.open(file_name) as file:\n",
    "            content = pd.read_json(file)\n",
    "            return content\n",
    "\n",
    "key_metrics = get_key_metrics('key-metrics_3-Aktien.zip', ticker)\n",
    "print(key_metrics)\n",
    "print(key_metrics.columns)"
   ],
   "metadata": {
    "collapsed": false,
    "pycharm": {
     "name": "#%%\n"
    }
   }
  },
  {
   "cell_type": "code",
   "execution_count": 26,
   "outputs": [
    {
     "name": "stdout",
     "output_type": "stream",
     "text": [
      "symbol                                MSFT\n",
      "date                   2023-09-30 00:00:00\n",
      "calendarYear                          2024\n",
      "period                                  Q1\n",
      "revenuePerShare                   7.580899\n",
      "                              ...         \n",
      "receivablesTurnover               1.529429\n",
      "payablesTurnover                  0.844357\n",
      "inventoryTurnover                    5.434\n",
      "roe                               0.100995\n",
      "capexPerShare                    -1.330215\n",
      "Name: 0, Length: 61, dtype: object\n"
     ]
    }
   ],
   "source": [
    "\n",
    "# print(key_metrics.columns)\n",
    "for index, row in key_metrics.iterrows():\n",
    "    if row['calendarYear'] == 2024:\n",
    "        print(row)"
   ],
   "metadata": {
    "collapsed": false,
    "pycharm": {
     "name": "#%%\n"
    }
   }
  },
  {
   "cell_type": "code",
   "execution_count": 22,
   "outputs": [],
   "source": [
    "from datetime import datetime\n",
    "from credentials import api_key\n",
    "# get closing price\n",
    "\n",
    "def get_nearest_date(items, pivot):\n",
    "    # Convert the date strings to datetime objects\n",
    "    items = [datetime.strptime(date, \"%Y-%m-%d\") for date in items]\n",
    "    pivot = datetime.strptime(pivot, \"%Y-%m-%d\")\n",
    "\n",
    "    nearest = min(items, key=lambda x: abs(x - pivot))\n",
    "    timedelta = abs(nearest - pivot)\n",
    "    return nearest, timedelta\n",
    "\n",
    "def get_closing_price(ticker: str, target_date: str):\n",
    "    closing_price = None\n",
    "    alpha_vantage_url = f'https://www.alphavantage.co/query?function=TIME_SERIES_DAILY_ADJUSTED&symbol={ticker}&outputsize=full&apikey={api_key}&datatype=csv'\n",
    "    alpha_vantage_csv = pd.read_csv(alpha_vantage_url)\n",
    "    alpha_vantage_df = pd.DataFrame(alpha_vantage_csv)\n",
    "\n",
    "    # Try fetching from Alpha Vantage\n",
    "    for index, row in alpha_vantage_df.iterrows():\n",
    "        if row['timestamp'] == target_date:\n",
    "            closing_price = row['adjusted_close']\n",
    "            print(f\"Found exact match in Alpha Vantage: {closing_price}\")\n",
    "            return closing_price\n",
    "\n",
    "    if closing_price is None:\n",
    "        # If both fail, find the nearest closing price\n",
    "        dates = alpha_vantage_df['timestamp']\n",
    "        nearest_date, timedelta = get_nearest_date(dates, target_date)\n",
    "\n",
    "        # Get closing price of nearest date\n",
    "        nearest_date_str = nearest_date.strftime(\"%Y-%m-%d\")\n",
    "        for index, row in alpha_vantage_df.iterrows():\n",
    "            if row['timestamp'] == nearest_date_str:\n",
    "                nearest_closing_price = row['adjusted_close']\n",
    "                print(f\"Found nearest closing price: {nearest_closing_price} on {nearest_date_str}\")\n",
    "                return nearest_closing_price\n",
    "    else:\n",
    "        return closing_price"
   ],
   "metadata": {
    "collapsed": false,
    "pycharm": {
     "name": "#%%\n"
    }
   }
  },
  {
   "cell_type": "code",
   "execution_count": 23,
   "outputs": [
    {
     "name": "stdout",
     "output_type": "stream",
     "text": [
      "2019-09-30\n",
      "Found exact match in Alpha Vantage: 133.503975950862\n",
      "133.503975950862\n",
      "Found exact match in Alpha Vantage: 230.204543223028\n",
      "2022-09-30\n",
      "230.204543223028\n"
     ]
    }
   ],
   "source": [
    "start_evaluation_date = '2019-09-30'\n",
    "print(start_evaluation_date)\n",
    "price_data_start = get_closing_price('MSFT', start_evaluation_date)\n",
    "print(price_data_start)\n",
    "\n",
    "\n",
    "end_evaluation_date = '2022-09-30'\n",
    "price_data_end = get_closing_price('MSFT', end_evaluation_date)\n",
    "print(end_evaluation_date)\n",
    "print(price_data_end)"
   ],
   "metadata": {
    "collapsed": false,
    "pycharm": {
     "name": "#%%\n"
    }
   }
  },
  {
   "cell_type": "code",
   "execution_count": 19,
   "outputs": [
    {
     "name": "stdout",
     "output_type": "stream",
     "text": [
      "7634000000\n",
      "7457000000\n"
     ]
    }
   ],
   "source": [
    "# shares\n",
    "from credentials import api_key\n",
    "import pandas as pd\n",
    "import requests\n",
    "\n",
    "def get_number_of_shares_outstanding(ticker, date):\n",
    "    url = f'https://www.alphavantage.co/query?function=BALANCE_SHEET&symbol={ticker}&outputsize=full&apikey={api_key}'\n",
    "    r = requests.get(url)\n",
    "    data = r.json()\n",
    "\n",
    "    for key, value in data.items():\n",
    "        if key == 'quarterlyReports':\n",
    "            df = pd.DataFrame(value)\n",
    "\n",
    "    for index, row in df.iterrows():\n",
    "        if row['fiscalDateEnding'] == date:\n",
    "            shares_outstanding = row['commonStockSharesOutstanding']\n",
    "            return shares_outstanding\n",
    "\n",
    "\n",
    "ticker = 'MSFT'\n",
    "start_date = '2019-09-30'\n",
    "shares_start = get_number_of_shares_outstanding(ticker, start_date)\n",
    "print(shares_start)\n",
    "\n",
    "end_date = '2022-09-30'\n",
    "shares_end = get_number_of_shares_outstanding(ticker, end_date)\n",
    "print(shares_end)"
   ],
   "metadata": {
    "collapsed": false,
    "pycharm": {
     "name": "#%%\n"
    }
   }
  },
  {
   "cell_type": "code",
   "execution_count": 26,
   "outputs": [
    {
     "name": "stdout",
     "output_type": "stream",
     "text": [
      "0.9768142520303904\n"
     ]
    }
   ],
   "source": [
    "# sharesOutstandingStart * x = sharesOustandingEnd\n",
    "# x = sharesOutstandingEnd / sharesOustandingStart\n",
    "\n",
    "factor = int(shares_end) / int(shares_start)\n",
    "print(factor)"
   ],
   "metadata": {
    "collapsed": false,
    "pycharm": {
     "name": "#%%\n"
    }
   }
  },
  {
   "cell_type": "code",
   "execution_count": 27,
   "outputs": [
    {
     "name": "stdout",
     "output_type": "stream",
     "text": [
      "136.67283792528906\n"
     ]
    }
   ],
   "source": [
    "# now the new price that has to be considered for the evaluation is...\n",
    "\n",
    "new_price = price_data_start / factor\n",
    "print(new_price)"
   ],
   "metadata": {
    "collapsed": false,
    "pycharm": {
     "name": "#%%\n"
    }
   }
  },
  {
   "cell_type": "code",
   "execution_count": 31,
   "outputs": [
    {
     "name": "stdout",
     "output_type": "stream",
     "text": [
      "0.6843474293616935\n",
      "investing on the 2019-09-30 for a price of 136.67283792528906 one would make an earning of 68.43474293616934 % per share till 2022-09-30\n"
     ]
    }
   ],
   "source": [
    "# thoughts on the calculation\n",
    "\n",
    "# periodenrendite (siehe lüscher-marty BAND 2 S.22)\n",
    "\n",
    "# periodenrendite = (Endkapital / Anfangskapital) -1\n",
    "# = periodenrendite = Kursveränderung / Anfangskapital\n",
    "\n",
    "# periodenrendite = (endwert - startwert) / startwert\n",
    "# dividend per Share (over the period) = (end_price - start_price) / start_price\n",
    "\n",
    "# startwert = new_price\n",
    "\n",
    "dividend = (price_data_end - new_price) / new_price\n",
    "print(dividend)\n",
    "dividend_percent = dividend * 100\n",
    "print(f'investing on the {start_date} for a price of {new_price} one would make an earning of {dividend_percent} % per share till {end_date}')\n"
   ],
   "metadata": {
    "collapsed": false,
    "pycharm": {
     "name": "#%%\n"
    }
   }
  },
  {
   "cell_type": "markdown",
   "source": [
    "### make this functional"
   ],
   "metadata": {
    "collapsed": false,
    "pycharm": {
     "name": "#%% md\n"
    }
   }
  },
  {
   "cell_type": "code",
   "execution_count": 42,
   "outputs": [],
   "source": [
    "# imports\n",
    "import zipfile\n",
    "from datetime import datetime\n",
    "from credentials import api_key\n",
    "import requests\n",
    "\n",
    "def get_closing_price(ticker: str, target_date: str):\n",
    "    alpha_vantage_url = f'https://www.alphavantage.co/query?function=TIME_SERIES_DAILY_ADJUSTED&symbol={ticker}&outputsize=full&apikey={api_key}&datatype=csv'\n",
    "    alpha_vantage_csv = pd.read_csv(alpha_vantage_url)\n",
    "    alpha_vantage_df = pd.DataFrame(alpha_vantage_csv)\n",
    "\n",
    "    # Try fetching from Alpha Vantage\n",
    "    for index, row in alpha_vantage_df.iterrows():\n",
    "        if row['timestamp'] == target_date:\n",
    "            closing_price = row['adjusted_close']\n",
    "            print(f\"Found exact match in Alpha Vantage: {closing_price}\")\n",
    "            return closing_price\n",
    "\n",
    "# shares\n",
    "def get_number_of_shares_outstanding(ticker, date):\n",
    "    url = f'https://www.alphavantage.co/query?function=BALANCE_SHEET&symbol={ticker}&outputsize=full&apikey={api_key}'\n",
    "    r = requests.get(url)\n",
    "    data = r.json()\n",
    "    for key, value in data.items():\n",
    "        if key == 'quarterlyReports':\n",
    "            df = pd.DataFrame(value)\n",
    "            for index, row in df.iterrows():\n",
    "                if row['fiscalDateEnding'] == date:\n",
    "                    shares_outstanding = row['commonStockSharesOutstanding']\n",
    "                    return shares_outstanding\n",
    "\n",
    "def calculate_dividend(ticker, start, end):\n",
    "    # get the number of shares outstanding\n",
    "    shares_start = get_number_of_shares_outstanding(ticker, start)\n",
    "    print(f'Shares Outstanding on start date: {shares_start}')\n",
    "    shares_end = get_number_of_shares_outstanding(ticker, end)\n",
    "    print(f'Shares Outstanding on end date: {shares_end}')\n",
    "\n",
    "\n",
    "    # get the closing prices\n",
    "    price_data_start = get_closing_price(ticker, start)\n",
    "    print(f'price on start date: {price_data_start}')\n",
    "\n",
    "    price_data_end = get_closing_price(ticker, end)\n",
    "    print(f'price on end date: {price_data_end}')\n",
    "\n",
    "    # adjust closing price\n",
    "    factor = int(shares_end) / int(shares_start)\n",
    "    adjusted_price = price_data_start / factor\n",
    "    print(f'adjusted price on start date: {adjusted_price}')\n",
    "\n",
    "    # calculate dividend\n",
    "    dividend = (price_data_end - adjusted_price) / adjusted_price\n",
    "\n",
    "    return dividend"
   ],
   "metadata": {
    "collapsed": false,
    "pycharm": {
     "name": "#%%\n"
    }
   }
  },
  {
   "cell_type": "code",
   "execution_count": 43,
   "outputs": [
    {
     "name": "stdout",
     "output_type": "stream",
     "text": [
      "MSFT\n",
      "Shares Outstanding on start date: 7634000000\n",
      "Shares Outstanding on end date: 7457000000\n",
      "Found exact match in Alpha Vantage: 133.503975950862\n",
      "price on start date: 133.503975950862\n",
      "Found exact match in Alpha Vantage: 230.204543223028\n",
      "price on end date: 230.204543223028\n",
      "adjusted price on start date: 130.4085864115245\n",
      "0.7652560276712292\n",
      "AAPL\n",
      "Shares Outstanding on start date: 4443236000\n",
      "Shares Outstanding on end date: 15943425000\n",
      "Found exact match in Alpha Vantage: 54.389066336395\n",
      "price on start date: 54.389066336395\n",
      "Found exact match in Alpha Vantage: 137.207418672583\n",
      "price on end date: 137.207418672583\n",
      "adjusted price on start date: 195.1613643646969\n",
      "-0.29695398923229344\n"
     ]
    }
   ],
   "source": [
    "# testing ...\n",
    "# test portfolio : {ticker : ratio(graham_number/price)\n",
    "test_dictionary = {'MSFT': 0.13963799348298295,\n",
    "                   #'PEP': 0.12020944922261735,\n",
    "                   'AAPL': 0.03260789823106461}\n",
    "\n",
    "ticker_list = list(test_dictionary.keys())\n",
    "\n",
    "start_date = '2019-09-30'\n",
    "end_date = '2022-09-30'\n",
    "\n",
    "for ticker in ticker_list:\n",
    "    print(ticker)\n",
    "    print(calculate_dividend(ticker, start_date, end_date))"
   ],
   "metadata": {
    "collapsed": false,
    "pycharm": {
     "name": "#%%\n"
    }
   }
  },
  {
   "cell_type": "markdown",
   "source": [
    "### Probleme:\n",
    "\n",
    "- die werte können eigentlich nicht stimmen (v.a. Apple 800 % Dividende ?!)\n",
    "- nicht möglich ein datum festzulegen muss irgendwie wieder über das quartal und jahr festgelegt werden\n",
    "- und dann ggf. das nächstegelegene datum gesucht werden...\n",
    "--> target date von graham number berechnung (das wird als startwert genommen und dann einfach drei jahre später das nächste target date definieren...)"
   ],
   "metadata": {
    "collapsed": false,
    "pycharm": {
     "name": "#%% md\n"
    }
   }
  }
 ],
 "metadata": {
  "kernelspec": {
   "display_name": "Python 3",
   "language": "python",
   "name": "python3"
  },
  "language_info": {
   "codemirror_mode": {
    "name": "ipython",
    "version": 2
   },
   "file_extension": ".py",
   "mimetype": "text/x-python",
   "name": "python",
   "nbconvert_exporter": "python",
   "pygments_lexer": "ipython2",
   "version": "2.7.6"
  }
 },
 "nbformat": 4,
 "nbformat_minor": 0
}