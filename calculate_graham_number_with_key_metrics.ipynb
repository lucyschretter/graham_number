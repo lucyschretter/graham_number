{
 "cells": [
  {
   "cell_type": "code",
   "execution_count": 1,
   "outputs": [],
   "source": [
    "# imports\n",
    "import pandas as pd\n",
    "import math\n",
    "import zipfile\n",
    "from credentials import api_key\n",
    "import yfinance as yf"
   ],
   "metadata": {
    "collapsed": false,
    "pycharm": {
     "name": "#%%\n"
    }
   }
  },
  {
   "cell_type": "code",
   "execution_count": 2,
   "metadata": {
    "collapsed": true
   },
   "outputs": [],
   "source": [
    "def get_key_metrics(zip_file_path, ticker):\n",
    "    file_name = f'{ticker}_key-metrics.json'\n",
    "    with zipfile.ZipFile(zip_file_path, 'r') as zip_ref:\n",
    "        with zip_ref.open(file_name) as file:\n",
    "            content = pd.read_json(file)\n",
    "            return content\n"
   ]
  },
  {
   "cell_type": "code",
   "execution_count": 71,
   "outputs": [],
   "source": [
    "from datetime import datetime\n",
    "\n",
    "# util function (source: https://stackoverflow.com/questions/32237862/find-the-closest-date-to-a-given-date)\n",
    "def get_nearest_date(items,pivot):\n",
    "    # Convert the date strings to datetime objects\n",
    "    items = [datetime.strptime(date, \"%Y-%m-%d\") for date in items]\n",
    "    pivot = datetime.strptime(pivot, \"%Y-%m-%d\")\n",
    "\n",
    "    nearest=min(items, key=lambda x: abs(x - pivot))\n",
    "    timedelta = abs(nearest - pivot)\n",
    "    return nearest, timedelta\n",
    "\n",
    "\n",
    "def get_closing_price(ticker, target_date):\n",
    "\n",
    "    closing_price = None\n",
    "\n",
    "    alpha_vantage_url = f'https://www.alphavantage.co/query?function=TIME_SERIES_DAILY_ADJUSTED&symbol={ticker}&outputsize=full&apikey={api_key}&datatype=csv'\n",
    "    alpha_vantage_csv = pd.read_csv(alpha_vantage_url)\n",
    "    alpha_vantage_df = pd.DataFrame(alpha_vantage_csv)\n",
    "\n",
    "    # Try fetching from Alpha Vantage\n",
    "    for index, row in alpha_vantage_df.iterrows():\n",
    "        if row['timestamp'] == target_date:\n",
    "            closing_price = row['close']\n",
    "            # print(f\"Found exact match in Alpha Vantage: {closing_price}\")\n",
    "            return closing_price\n",
    "\n",
    "    if closing_price is None:\n",
    "        # If Alpha Vantage fails, try fetching from Yahoo Finance\n",
    "        yfinance_ticker = yf.Ticker(ticker)\n",
    "        historical_data = yfinance_ticker.history(period=\"25y\")\n",
    "\n",
    "        for index, row in historical_data.iterrows():\n",
    "            date = index.strftime(\"%Y-%m-%d\")\n",
    "            if date == target_date:\n",
    "                closing_price = row['Close']\n",
    "                # print(f\"Found exact match in Yahoo Finance: {closing_price}\")\n",
    "                return closing_price\n",
    "\n",
    "    if closing_price is None:\n",
    "        # If both fail, find the nearest closing price\n",
    "        dates = alpha_vantage_df['timestamp']\n",
    "        nearest_date, timedelta = get_nearest_date(dates, target_date)\n",
    "\n",
    "        # Get closing price of nearest date\n",
    "        nearest_date_str = nearest_date.strftime(\"%Y-%m-%d\")\n",
    "        for index, row in alpha_vantage_df.iterrows():\n",
    "            if row['timestamp'] == nearest_date_str:\n",
    "                nearest_closing_price = row['close']\n",
    "                # print(f\"Found nearest closing price: {nearest_closing_price} on {nearest_date_str}\")\n",
    "                return nearest_closing_price\n",
    "    else:\n",
    "        return closing_price"
   ],
   "metadata": {
    "collapsed": false,
    "pycharm": {
     "name": "#%%\n"
    }
   }
  },
  {
   "cell_type": "code",
   "execution_count": 72,
   "outputs": [
    {
     "name": "stdout",
     "output_type": "stream",
     "text": [
      "2022-12-31\n"
     ]
    }
   ],
   "source": [
    "# function to get the reported day for a specific quarter of a company\n",
    "\n",
    "def get_reported_date(ticker, target_quarter, target_year):\n",
    "    # Get key metrics\n",
    "    key_metrics = get_key_metrics('key-metrics_3-Aktien.zip', ticker)\n",
    "    for index, row in key_metrics.iterrows():\n",
    "        quarter = row['period']\n",
    "        year = str(row['calendarYear'])\n",
    "\n",
    "        if quarter == target_quarter and year == target_year:\n",
    "            target_date = row['date'].strftime(\"%Y-%m-%d\")\n",
    "            return target_date\n",
    "\n",
    "\n",
    "print(get_reported_date('AAPL', 'Q1', '2023'))"
   ],
   "metadata": {
    "collapsed": false,
    "pycharm": {
     "name": "#%%\n"
    }
   }
  },
  {
   "cell_type": "code",
   "execution_count": null,
   "outputs": [],
   "source": [
    "ticker = \"AAPL\"\n",
    "target_date = '2002-06-30'\n",
    "closing_price = get_closing_price(ticker, target_date)\n",
    "print(closing_price)\n"
   ],
   "metadata": {
    "collapsed": false,
    "pycharm": {
     "name": "#%%\n"
    }
   }
  },
  {
   "cell_type": "code",
   "execution_count": 3,
   "outputs": [],
   "source": [
    "def calculate_graham_number(ticker, target_quarter, target_year):\n",
    "    # Get key metrics\n",
    "    key_metrics = get_key_metrics('key-metrics_3-Aktien.zip', ticker)\n",
    "    for index, row in key_metrics.iterrows():\n",
    "        quarter = row['period']\n",
    "        year = str(row['calendarYear'])\n",
    "\n",
    "        if quarter == target_quarter and year == target_year:\n",
    "            eps = row['netIncomePerShare']\n",
    "            bvps = row['bookValuePerShare']\n",
    "\n",
    "            # Check if eps and bvps are non-negative before calculating Graham number\n",
    "            if eps >= 0 and bvps >= 0:\n",
    "                graham_number = math.sqrt(22.5 * eps * bvps)\n",
    "                # print(f'The calculated Graham number on {target_date} is {graham_number}')\n",
    "\n",
    "            else:\n",
    "                graham_number = row['grahamNumber']\n",
    "                # print(\"EPS or BVPS is negative. Took the given Graham Number instead of calculating it.\")\n",
    "\n",
    "            return graham_number"
   ],
   "metadata": {
    "collapsed": false,
    "pycharm": {
     "name": "#%%\n"
    }
   }
  },
  {
   "cell_type": "code",
   "execution_count": 7,
   "outputs": [
    {
     "name": "stdout",
     "output_type": "stream",
     "text": [
      "price on 2021-09-25 is 36.72999999999998\n",
      "36.72999999999998\n"
     ]
    }
   ],
   "source": [
    "# calculate price by ratio\n",
    "def price_by_ratio(ticker, target_quarter, target_year):\n",
    "    # Get key metrics\n",
    "    key_metrics = get_key_metrics('key-metrics_3-Aktien.zip', ticker)\n",
    "    for index, row in key_metrics.iterrows():\n",
    "        quarter = row['period']\n",
    "        year = str(row['calendarYear'])\n",
    "\n",
    "        if quarter == target_quarter and year == target_year:\n",
    "            date = row['date'].strftime(\"%Y-%m-%d\")\n",
    "            netIncomePerShare = row['netIncomePerShare']\n",
    "            pe_ratio = row['peRatio']\n",
    "\n",
    "            price = pe_ratio * netIncomePerShare\n",
    "\n",
    "            print(f'price on {date} is {price}')\n",
    "\n",
    "            return price\n",
    "\n",
    "print(price_by_ratio('AAPL', 'Q4', '2021'))"
   ],
   "metadata": {
    "collapsed": false,
    "pycharm": {
     "name": "#%%\n"
    }
   }
  },
  {
   "cell_type": "code",
   "execution_count": 78,
   "outputs": [],
   "source": [
    "def get_margin_of_safety(ticker, target_quarter, target_year):\n",
    "\n",
    "    target_date = get_reported_date(ticker, target_quarter, target_year)\n",
    "    closing_price = get_closing_price(ticker, target_date)\n",
    "    graham_number = calculate_graham_number(ticker, target_quarter, target_year)\n",
    "\n",
    "    # find the undervalued stocks\n",
    "    if graham_number is not None and closing_price is not None:\n",
    "        margin_of_safety = graham_number - closing_price\n",
    "        return margin_of_safety\n",
    "    else:\n",
    "        return 'some values are missing'"
   ],
   "metadata": {
    "collapsed": false,
    "pycharm": {
     "name": "#%%\n"
    }
   }
  },
  {
   "cell_type": "code",
   "execution_count": 81,
   "outputs": [
    {
     "name": "stdout",
     "output_type": "stream",
     "text": [
      "In Q22001, AAPL is overvalued\n",
      "In Q32001, AAPL is overvalued\n",
      "In Q42001, AAPL is overvalued\n",
      "In Q12002, AAPL is overvalued\n",
      "In Q22002, AAPL is overvalued\n",
      "In Q32002, AAPL is overvalued\n",
      "In Q42002, AAPL is overvalued\n",
      "In Q12000, MSFT is overvalued\n",
      "In Q22000, MSFT is overvalued\n",
      "In Q32000, MSFT is overvalued\n",
      "In Q42000, MSFT is overvalued\n",
      "In Q12001, MSFT is overvalued\n",
      "In Q22001, MSFT is overvalued\n",
      "In Q32001, MSFT is overvalued\n",
      "In Q42001, MSFT is overvalued\n",
      "In Q12002, MSFT is overvalued\n",
      "In Q22002, MSFT is overvalued\n",
      "In Q32002, MSFT is overvalued\n",
      "In Q42002, MSFT is overvalued\n",
      "In Q12000, PEP is overvalued\n",
      "In Q22000, PEP is overvalued\n",
      "In Q32000, PEP is overvalued\n",
      "In Q42000, PEP is overvalued\n",
      "In Q12001, PEP is overvalued\n",
      "In Q22001, PEP is overvalued\n",
      "In Q32001, PEP is overvalued\n",
      "In Q42001, PEP is overvalued\n",
      "In Q12002, PEP is overvalued\n",
      "In Q22002, PEP is overvalued\n",
      "In Q32002, PEP is overvalued\n",
      "In Q42002, PEP is overvalued\n",
      "In Q1, 2000, AAPL is overvalued\n",
      "In Q2, 2000, AAPL is overvalued\n",
      "In Q3, 2000, AAPL is overvalued\n",
      "In Q4, 2000, AAPL is overvalued\n",
      "In Q1, 2001, AAPL is overvalued\n",
      "In Q2, 2001, AAPL is overvalued\n",
      "In Q3, 2001, AAPL is overvalued\n",
      "In Q4, 2001, AAPL is overvalued\n",
      "In Q1, 2002, AAPL is overvalued\n",
      "In Q2, 2002, AAPL is overvalued\n",
      "In Q3, 2002, AAPL is overvalued\n",
      "In Q4, 2002, AAPL is overvalued\n",
      "In Q1, 2000, MSFT is overvalued\n",
      "In Q2, 2000, MSFT is overvalued\n",
      "In Q3, 2000, MSFT is overvalued\n",
      "In Q4, 2000, MSFT is overvalued\n",
      "In Q1, 2001, MSFT is overvalued\n",
      "In Q2, 2001, MSFT is overvalued\n",
      "In Q3, 2001, MSFT is overvalued\n",
      "In Q4, 2001, MSFT is overvalued\n",
      "In Q1, 2002, MSFT is overvalued\n",
      "In Q2, 2002, MSFT is overvalued\n",
      "In Q3, 2002, MSFT is overvalued\n",
      "In Q4, 2002, MSFT is overvalued\n",
      "In Q1, 2000, PEP is overvalued\n",
      "In Q2, 2000, PEP is overvalued\n",
      "In Q3, 2000, PEP is overvalued\n",
      "In Q4, 2000, PEP is overvalued\n",
      "In Q1, 2001, PEP is overvalued\n",
      "In Q2, 2001, PEP is overvalued\n",
      "In Q3, 2001, PEP is overvalued\n",
      "In Q4, 2001, PEP is overvalued\n",
      "In Q1, 2002, PEP is overvalued\n",
      "In Q2, 2002, PEP is overvalued\n",
      "In Q3, 2002, PEP is overvalued\n",
      "In Q4, 2002, PEP is overvalued\n"
     ]
    }
   ],
   "source": [
    "years = ['2000', '2001', '2002'#, '2003', '2004', '2005',\n",
    "         #'2006', '2007', '2008', '2009', '2010', '2011',\n",
    "         #'2012', '2013', '2014', '2015', '2016', '2017'\n",
    "         ]\n",
    "quarters = ['Q1', 'Q2', 'Q3', 'Q4']\n",
    "\n",
    "\n",
    "ticker_list = ['AAPL', 'MSFT', 'PEP']\n",
    "for ticker in ticker_list:\n",
    "    for year in years:\n",
    "        for quarter in quarters:\n",
    "            portfolio = []\n",
    "            margin = get_margin_of_safety(ticker, quarter, year)\n",
    "            if margin > 0:\n",
    "                portfolio.append(ticker)\n",
    "                sorted_portfolio = sorted(portfolio, key=lambda x: x[1], reverse=True)\n",
    "                print(f'{quarter}{year}: {sorted_portfolio}')\n",
    "            else:\n",
    "                print(f'In {quarter}, {year}, {ticker} is overvalued')\n",
    "\n"
   ],
   "metadata": {
    "collapsed": false,
    "pycharm": {
     "name": "#%%\n"
    }
   }
  },
  {
   "cell_type": "code",
   "execution_count": null,
   "outputs": [],
   "source": [],
   "metadata": {
    "collapsed": false,
    "pycharm": {
     "name": "#%%\n"
    }
   }
  }
 ],
 "metadata": {
  "kernelspec": {
   "display_name": "Python 3",
   "language": "python",
   "name": "python3"
  },
  "language_info": {
   "codemirror_mode": {
    "name": "ipython",
    "version": 2
   },
   "file_extension": ".py",
   "mimetype": "text/x-python",
   "name": "python",
   "nbconvert_exporter": "python",
   "pygments_lexer": "ipython2",
   "version": "2.7.6"
  }
 },
 "nbformat": 4,
 "nbformat_minor": 0
}